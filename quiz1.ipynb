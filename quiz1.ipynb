{
 "cells": [
  {
   "cell_type": "code",
   "execution_count": 1,
   "metadata": {},
   "outputs": [
    {
     "name": "stdout",
     "output_type": "stream",
     "text": [
      "Defaulting to user installation because normal site-packages is not writeable\n",
      "Collecting numpy\n",
      "  Downloading numpy-1.25.2-cp39-cp39-win_amd64.whl (15.6 MB)\n",
      "Installing collected packages: numpy\n",
      "Successfully installed numpy-1.25.2\n"
     ]
    },
    {
     "name": "stderr",
     "output_type": "stream",
     "text": [
      "WARNING: You are using pip version 21.1.1; however, version 23.2.1 is available.\n",
      "You should consider upgrading via the 'c:\\program files\\python39\\python.exe -m pip install --upgrade pip' command.\n"
     ]
    }
   ],
   "source": [
    "!pip install numpy"
   ]
  },
  {
   "cell_type": "code",
   "execution_count": 175,
   "metadata": {},
   "outputs": [],
   "source": [
    "import numpy as np"
   ]
  },
  {
   "cell_type": "code",
   "execution_count": 33,
   "metadata": {},
   "outputs": [],
   "source": [
    "arr_1 = np.array([ 41, 41, 42, 43,45,46,49,50,55,58,61,66,73,79,80,85,87,89,92,98 ])\n"
   ]
  },
  {
   "cell_type": "code",
   "execution_count": 203,
   "metadata": {},
   "outputs": [
    {
     "name": "stdout",
     "output_type": "stream",
     "text": [
      "Length of Array =  20\n",
      "Minimum Value =  41\n",
      "First Quartile =  46\n",
      "Median =  61\n",
      "Third Quartile =  85\n",
      "Maximum Value =  98\n"
     ]
    }
   ],
   "source": [
    "#Length of Array\n",
    "array_len = len(arr_1)\n",
    "print(\"Length of Array = \", array_len)\n",
    "\n",
    "#Minimum Value\n",
    "minimum_value = np.min(arr_1)\n",
    "print(\"Minimum Value = \", minimum_value)\n",
    "\n",
    "#First Quartile\n",
    "first_quartile = round(array_len*0.25)\n",
    "print(\"First Quartile = \", arr_1[first_quartile])\n",
    "\n",
    "#Median\n",
    "median = round(array_len*0.5)\n",
    "print(\"Median = \", arr_1[median])\n",
    "\n",
    "#Third Quartile\n",
    "third_quartile = round(array_len*0.75)\n",
    "print(\"Third Quartile = \", arr_1[third_quartile])\n",
    "\n",
    "#Maximum Value\n",
    "maximum_value = np.max(arr_1)\n",
    "print(\"Maximum Value = \", maximum_value)\n",
    "\n",
    "\n"
   ]
  },
  {
   "cell_type": "code",
   "execution_count": 127,
   "metadata": {},
   "outputs": [
    {
     "name": "stdout",
     "output_type": "stream",
     "text": [
      "[41, 41, 42, 43, 45, 46, 49, 50, 55]\n",
      "a =  9\n",
      "[58 61 66 73 79 80]\n",
      "b =  6\n",
      "[85 87 89 92 98]\n",
      "c =  5\n"
     ]
    }
   ],
   "source": [
    "a = [num for num in arr_1 if num <= 55]\n",
    "print(a)\n",
    "print(\"a = \", len(a))\n",
    "\n",
    "con_1 = arr_1 >= 56\n",
    "con_2 = arr_1 <= 80\n",
    "\n",
    "b = arr_1[con_1 & con_2 ]\n",
    "print(b)\n",
    "print(\"b = \", len(b))\n",
    "\n",
    "con_3 = arr_1 >= 81\n",
    "c = arr_1[con_3]\n",
    "print(c)\n",
    "print(\"c = \", len(c))"
   ]
  },
  {
   "cell_type": "code",
   "execution_count": null,
   "metadata": {},
   "outputs": [],
   "source": []
  },
  {
   "cell_type": "code",
   "execution_count": 63,
   "metadata": {},
   "outputs": [
    {
     "name": "stdout",
     "output_type": "stream",
     "text": [
      "a =  [41, 41, 42, 43, 45, 46, 49, 50, 55]\n",
      "a frequency =  9\n",
      "\n",
      "b =  [58 61 66 73 79 80]\n",
      "b frequency =  6\n",
      "\n",
      "c =  [85 87 89 92 98]\n",
      "c frequency =  5\n",
      "\n",
      "L1 =  58\n",
      "\n",
      "N =  20\n",
      "\n",
      "sum_freq1 =  9\n",
      "\n",
      "freq_med =  6\n",
      "\n",
      "width =  24\n",
      "\n",
      "Approximate Median =  62.0\n"
     ]
    }
   ],
   "source": [
    "#First condition: a\n",
    "a = [num for num in arr_1 if num <= 55]\n",
    "print(\"a = \", a)\n",
    "print(\"a frequency = \", len(a))\n",
    "\n",
    "\n",
    "#Second condition: b\n",
    "con_1 = arr_1 >= 56\n",
    "con_2 = arr_1 <= 80\n",
    "b = arr_1[con_1 & con_2 ]\n",
    "print(\"\\nb = \", b)\n",
    "print(\"b frequency = \", len(b))\n",
    "\n",
    "#Third condition: c\n",
    "con_3 = arr_1 >= 81\n",
    "c = arr_1[con_3]\n",
    "print(\"\\nc = \", c)\n",
    "print(\"c frequency = \", len(c))\n",
    "\n",
    "#Lower median range\n",
    "L1 = 58\n",
    "print(\"\\nL1 = \", L1)\n",
    "\n",
    "#Number of samples\n",
    "N = len(arr_1)\n",
    "print(\"\\nN = \", N)\n",
    "\n",
    "#Summation of first frequency\n",
    "sum_freq1 = len(a)\n",
    "print(\"\\nsum_freq1 = \", sum_freq1)\n",
    "\n",
    "#Median frequency\n",
    "freq_med = len(b)\n",
    "print(\"\\nfreq_med = \", freq_med)\n",
    "\n",
    "#Width of median interva;, Upper Median - Lower Median\n",
    "width = 80 - 56\n",
    "print(\"\\nwidth = \", width)\n",
    "\n",
    "#Approximated Median\n",
    "approx_median = L1 + ((N/2)-sum_freq1)/freq_med*width\n",
    "print(\"\\nApproximate Median = \", approx_median)"
   ]
  },
  {
   "cell_type": "code",
   "execution_count": 62,
   "metadata": {},
   "outputs": [
    {
     "name": "stdout",
     "output_type": "stream",
     "text": [
      "Min Val =  41\n",
      "Max Val =  98\n",
      "\n",
      "Original Data:  [41, 41, 42, 43, 45, 46, 49, 50, 55, 58, 61, 66, 73, 79, 80, 85, 87, 89, 92, 98]\n",
      "\n",
      "Normalized Data:  [0.         0.         0.01754386 0.03508772 0.07017544 0.0877193\n",
      " 0.14035088 0.15789474 0.24561404 0.29824561 0.35087719 0.43859649\n",
      " 0.56140351 0.66666667 0.68421053 0.77192982 0.80701754 0.84210526\n",
      " 0.89473684 1.        ]\n"
     ]
    }
   ],
   "source": [
    "import numpy as np\n",
    "\n",
    "#set data\n",
    "array_data = [41,41,42,43,45,46,49,50,55,58,61,66,73,79,80,85,87,89,92,98]\n",
    "\n",
    "# Minimum value\n",
    "min_val = np.min(array_data)\n",
    "print(\"Min Val = \", min_val)\n",
    "\n",
    "# Maximum value\n",
    "max_val = np.max(array_data)\n",
    "print(\"Max Val = \", max_val)\n",
    "\n",
    "# Normalized data\n",
    "normalized_data = (array_data - min_val) / (max_val - min_val)\n",
    "\n",
    "# Min-Max Normalized Data\n",
    "print(\"\\nOriginal Data: \", array_data)\n",
    "\n",
    "print(\"\\nNormalized Data: \", normalized_data)"
   ]
  },
  {
   "cell_type": "code",
   "execution_count": 67,
   "metadata": {},
   "outputs": [
    {
     "name": "stdout",
     "output_type": "stream",
     "text": [
      "Mean 64.0\n",
      "\n",
      "Standard Deviation 19.12589867169645\n",
      "\n",
      "Original Data:  [41, 41, 42, 43, 45, 46, 49, 50, 55, 58, 61, 66, 73, 79, 80, 85, 87, 89, 92, 98]\n",
      "\n",
      "Normalized Data:  [-1.20255787 -1.20255787 -1.15027275 -1.09798762 -0.99341737 -0.94113225\n",
      " -0.78427687 -0.73199175 -0.47056612 -0.31371075 -0.15685537  0.10457025\n",
      "  0.47056612  0.78427687  0.836562    1.09798762  1.20255787  1.30712812\n",
      "  1.4639835   1.77769425]\n"
     ]
    }
   ],
   "source": [
    "# Mean and Standard Deviation of Data\n",
    "mean = np.mean(array_data)\n",
    "print(\"Mean\", mean)\n",
    "std_dev = np.std(array_data)\n",
    "print(\"\\nStandard Deviation\", std_dev)\n",
    "\n",
    "# Z-score normalization\n",
    "normalized_data = (array_data - mean) / std_dev\n",
    "\n",
    "# Z-score normalized data\n",
    "print(\"\\nOriginal Data: \", array_data)\n",
    "\n",
    "print(\"\\nNormalized Data: \", normalized_data)\n"
   ]
  },
  {
   "cell_type": "code",
   "execution_count": 82,
   "metadata": {},
   "outputs": [
    {
     "name": "stdout",
     "output_type": "stream",
     "text": [
      "Vector dot product d1 =  14.106735979665885\n",
      "\n",
      "Vector dot product d2 =  12.041594578792296\n",
      "\n",
      "Product of Vectors =  139\n",
      "\n",
      "Cosine Similarity =  0.8182843796260838\n"
     ]
    }
   ],
   "source": [
    "import numpy as np\n",
    "\n",
    "# Set distances\n",
    "d1 = np.array([4,1,5,6,8,2,4,6,1])\n",
    "d2 = np.array([0,1,3,3,9,0,4,2,5])\n",
    "\n",
    "# Dot Products\n",
    "d1_dot = np.sqrt(sum(d1 * d1))\n",
    "print(\"Vector dot product d1 = \", d1_dot)\n",
    "\n",
    "d2_dot = np.sqrt(sum(d2 * d2))\n",
    "print(\"\\nVector dot product d2 = \", d2_dot)\n",
    "\n",
    "# Product of two Vectors\n",
    "d1_d2 = d1 * d2\n",
    "sum_d1_d2 = sum(d1_d2)\n",
    "print(\"\\nProduct of Vectors = \", sum_d1_d2)\n",
    "\n",
    "#Cosine Similarity\n",
    "cos_d1_d2 = sum_d1_d2/d1_dot/d2_dot\n",
    "\n",
    "\n",
    "print(\"\\nCosine Similarity = \", cos_d1_d2)"
   ]
  },
  {
   "cell_type": "code",
   "execution_count": 99,
   "metadata": {},
   "outputs": [
    {
     "name": "stdout",
     "output_type": "stream",
     "text": [
      "Bin 1 [41, 41, 42, 43, 45]\n",
      "Bin 2 [46, 49, 50, 55, 58]\n",
      "Bin 3 [61, 66, 73, 79, 80]\n",
      "Bin 4 [85, 87, 89, 92, 98]\n"
     ]
    }
   ],
   "source": [
    "# Array of Weight\n",
    "data = [41,41,42,43,45,46,49,50,55,58,61,66,73,79,80,85,87,89,92,98]\n",
    "bin = 5\n",
    "prtn_2 = len(data)/5\n",
    "\n",
    "#equal-depth partitioning\n",
    "bin_1 = data[0:5]\n",
    "print(\"Bin 1\", bin_1)\n",
    "\n",
    "bin_2 = data[5:10]\n",
    "print(\"Bin 2\", bin_2)\n",
    "\n",
    "bin_3 = data[10:15]\n",
    "print(\"Bin 3\", bin_3)\n",
    "\n",
    "bin_4 = data[15:20]\n",
    "print(\"Bin 4\", bin_4)\n",
    "\n",
    "\n"
   ]
  },
  {
   "cell_type": "code",
   "execution_count": 200,
   "metadata": {},
   "outputs": [
    {
     "name": "stdout",
     "output_type": "stream",
     "text": [
      "Width 14.25\n",
      "\n",
      "Bin 1 [41 41 43 43 45 46 49 50 55]\n",
      "Bin 2 [58 61 66]\n",
      "Bin 3 [73 79 80]\n",
      "Bin 4 [85 87 89 92 98]\n"
     ]
    }
   ],
   "source": [
    "# Array of Weight\n",
    "data = np.array([41,41,43,43,45,46,49,50,55,58,61,66,73,79,80,85,87,89,92,98])\n",
    "\n",
    "# data_int = [int(x) for x in data]\n",
    "min = np.min(data)\n",
    "max = np.max(data)\n",
    "bin = 4\n",
    "\n",
    "#Width\n",
    "w = (max - min)/bin\n",
    "print(\"Width\", w)\n",
    "\n",
    "# Bin 1\n",
    "lim_1 = w + min\n",
    "con_1 = data <= lim_1\n",
    "\n",
    "bin_1 = data[con_1]\n",
    "print(\"\\nBin 1\", bin_1)\n",
    "\n",
    "# Bin 2\n",
    "lim_2 = lim_1 + w\n",
    "con_2_a = data >= lim_1\n",
    "con_2_b = data <= lim_2\n",
    "\n",
    "bin_2 = data[con_2_a & con_2_b]\n",
    "print(\"Bin 2\", bin_2)\n",
    "\n",
    "# Bin 3\n",
    "lim_3 = lim_2 + w\n",
    "con_3_a = data >= lim_2\n",
    "con_3_b = data <= lim_3\n",
    "\n",
    "bin_3 = data[con_3_a & con_3_b]\n",
    "print(\"Bin 3\", bin_3)\n",
    "\n",
    "# Bin 4\n",
    "lim_4 = lim_3 + w\n",
    "con_4_a = data >= lim_3\n",
    "con_4_b = data <= lim_4\n",
    "\n",
    "bin_4 = data[con_4_a & con_4_b]\n",
    "print(\"Bin 4\", bin_4)\n"
   ]
  },
  {
   "cell_type": "code",
   "execution_count": 202,
   "metadata": {},
   "outputs": [
    {
     "name": "stdout",
     "output_type": "stream",
     "text": [
      "Cuboids 243\n"
     ]
    }
   ],
   "source": [
    "dimensions = 5\n",
    "levels = 3\n",
    "\n",
    "total_number_cuboids = 3 ** 5\n",
    "print(\"Cuboids\", total_number_cuboids)"
   ]
  }
 ],
 "metadata": {
  "kernelspec": {
   "display_name": "Python 3",
   "language": "python",
   "name": "python3"
  },
  "language_info": {
   "codemirror_mode": {
    "name": "ipython",
    "version": 3
   },
   "file_extension": ".py",
   "mimetype": "text/x-python",
   "name": "python",
   "nbconvert_exporter": "python",
   "pygments_lexer": "ipython3",
   "version": "3.9.5"
  },
  "orig_nbformat": 4
 },
 "nbformat": 4,
 "nbformat_minor": 2
}
